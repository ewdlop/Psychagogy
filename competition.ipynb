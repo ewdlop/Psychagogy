{
 "cells": [
  {
   "cell_type": "code",
   "execution_count": null,
   "metadata": {
    "vscode": {
     "languageId": "plaintext"
    }
   },
   "outputs": [],
   "source": [
    "from psychopy import visual, core, event, data, gui\n",
    "import random\n",
    "\n",
    "# Create a window\n",
    "win = visual.Window([800, 600], color=(1, 1, 1))\n",
    "\n",
    "# Collect participant info\n",
    "info = {\"Participant ID\": \"\"}\n",
    "dlg = gui.DlgFromDict(dictionary=info, title=\"Competition Experiment\")\n",
    "if not dlg.OK:\n",
    "    core.quit()"
   ]
  },
  {
   "cell_type": "code",
   "execution_count": null,
   "metadata": {
    "vscode": {
     "languageId": "plaintext"
    }
   },
   "outputs": [],
   "source": [
    "# Experiment parameters\n",
    "num_trials = 20\n",
    "stimuli = [\"Red\", \"Green\", \"Blue\"]\n",
    "stim_color = {\"Red\": [1, -1, -1], \"Green\": [-1, 1, -1], \"Blue\": [-1, -1, 1]}\n",
    "\n",
    "# Create text stimuli\n",
    "stimulus_text = visual.TextStim(win, text='', color=[-1, -1, -1], height=0.1)\n",
    "feedback_text = visual.TextStim(win, text='', color=[-1, -1, -1], pos=(0, -0.2), height=0.1)"
   ]
  },
  {
   "cell_type": "code",
   "execution_count": null,
   "metadata": {
    "vscode": {
     "languageId": "plaintext"
    }
   },
   "outputs": [],
   "source": [
    "def run_trial(stimulus, correct_key):\n",
    "    # Display the stimulus\n",
    "    stimulus_text.setText(stimulus)\n",
    "    stimulus_text.setColor(stim_color[stimulus])\n",
    "    stimulus_text.draw()\n",
    "    win.flip()\n",
    "\n",
    "    # Wait for a response\n",
    "    start_time = core.getTime()\n",
    "    keys = event.waitKeys(keyList=[\"r\", \"g\", \"b\", \"escape\"])\n",
    "    response_time = core.getTime() - start_time\n",
    "\n",
    "    # Check for escape key\n",
    "    if \"escape\" in keys:\n",
    "        core.quit()\n",
    "\n",
    "    # Determine if the response was correct\n",
    "    response = keys[0]\n",
    "    if response == correct_key:\n",
    "        feedback = \"Correct\"\n",
    "    else:\n",
    "        feedback = \"Incorrect\"\n",
    "\n",
    "    # Provide feedback\n",
    "    feedback_text.setText(f\"{feedback}\\nResponse time: {response_time:.3f} seconds\")\n",
    "    feedback_text.draw()\n",
    "    win.flip()\n",
    "    core.wait(1)\n",
    "\n",
    "    return response, response_time"
   ]
  },
  {
   "cell_type": "code",
   "execution_count": null,
   "metadata": {
    "vscode": {
     "languageId": "plaintext"
    }
   },
   "outputs": [],
   "source": [
    "# Run the experiment\n",
    "results = []\n",
    "for trial in range(num_trials):\n",
    "    # Randomly select a stimulus and the correct response key\n",
    "    stimulus = random.choice(stimuli)\n",
    "    correct_key = stimulus[0].lower()  # 'r' for Red, 'g' for Green, 'b' for Blue\n",
    "\n",
    "    # Run the trial\n",
    "    response, response_time = run_trial(stimulus, correct_key)\n",
    "    \n",
    "    # Record the results\n",
    "    results.append({\n",
    "        \"trial\": trial + 1,\n",
    "        \"stimulus\": stimulus,\n",
    "        \"response\": response,\n",
    "        \"response_time\": response_time,\n",
    "        \"correct\": response == correct_key\n",
    "    })\n",
    "\n",
    "# End the experiment\n",
    "end_message = visual.TextStim(win, text=\"Thank you for participating!\", color=[-1, -1, -1], height=0.1)\n",
    "end_message.draw()\n",
    "win.flip()\n",
    "core.wait(3)\n",
    "\n",
    "win.close()\n",
    "core.quit()"
   ]
  }
 ],
 "metadata": {
  "language_info": {
   "name": "python"
  }
 },
 "nbformat": 4,
 "nbformat_minor": 2
}
