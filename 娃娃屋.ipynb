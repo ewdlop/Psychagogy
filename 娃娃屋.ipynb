{
 "cells": [
  {
   "cell_type": "code",
   "execution_count": null,
   "metadata": {
    "vscode": {
     "languageId": "plaintext"
    }
   },
   "outputs": [],
   "source": [
    "from psychopy import visual, core, event, sound\n",
    "\n",
    "# Create a window\n",
    "win = visual.Window([800, 600], color=(1, 1, 1))\n",
    "\n",
    "# Collect participant info\n",
    "info = {\"Participant ID\": \"\"}\n",
    "dlg = gui.DlgFromDict(dictionary=info, title=\"Dollhouse Simulation\")\n",
    "if not dlg.OK:\n",
    "    core.quit()"
   ]
  },
  {
   "cell_type": "code",
   "execution_count": null,
   "metadata": {
    "vscode": {
     "languageId": "plaintext"
    }
   },
   "outputs": [],
   "source": [
    "# Define rooms and their objects\n",
    "rooms = {\n",
    "    \"Living Room\": [\"Sofa\", \"TV\", \"Lamp\"],\n",
    "    \"Kitchen\": [\"Fridge\", \"Oven\", \"Table\"],\n",
    "    \"Bedroom\": [\"Bed\", \"Wardrobe\", \"Desk\"],\n",
    "    \"Bathroom\": [\"Shower\", \"Toilet\", \"Sink\"]\n",
    "}\n",
    "\n",
    "# Create text stimuli for rooms\n",
    "room_text = visual.TextStim(win, text='', color=(-1, -1, -1), pos=(0, 0.4), wrapWidth=1.5)\n",
    "object_text = visual.TextStim(win, text='', color=(-1, -1, -1), pos=(0, 0.2), wrapWidth=1.5)\n",
    "instruction_text = visual.TextStim(win, text='Press the corresponding number key to interact with an object.', color=(-1, -1, -1), pos=(0, -0.4), wrapWidth=1.5)"
   ]
  },
  {
   "cell_type": "code",
   "execution_count": null,
   "metadata": {
    "vscode": {
     "languageId": "plaintext"
    }
   },
   "outputs": [],
   "source": [
    "for room, objects in rooms.items():\n",
    "    room_text.setText(f\"Room: {room}\")\n",
    "    object_text.setText('\\n'.join([f\"{i+1}. {obj}\" for i, obj in enumerate(objects)]))\n",
    "\n",
    "    # Display the room and objects\n",
    "    room_text.draw()\n",
    "    object_text.draw()\n",
    "    instruction_text.draw()\n",
    "    win.flip()\n",
    "\n",
    "    # Wait for user interaction\n",
    "    keys = event.waitKeys(keyList=[str(i+1) for i in range(len(objects))] + ['escape'])\n",
    "    if 'escape' in keys:\n",
    "        break\n",
    "\n",
    "    # Get the selected object\n",
    "    selected_object = objects[int(keys[0]) - 1]\n",
    "\n",
    "    # Provide feedback\n",
    "    feedback_text = visual.TextStim(win, text=f\"You selected: {selected_object}\", color=(-1, -1, -1), pos=(0, 0))\n",
    "    feedback_text.draw()\n",
    "    win.flip()\n",
    "    core.wait(2)  # Display feedback for 2 seconds"
   ]
  },
  {
   "cell_type": "code",
   "execution_count": null,
   "metadata": {
    "vscode": {
     "languageId": "plaintext"
    }
   },
   "outputs": [],
   "source": [
    "# End of simulation\n",
    "end_message = visual.TextStim(win, text=\"Thank you for participating!\", color=(-1, -1, -1))\n",
    "end_message.draw()\n",
    "win.flip()\n",
    "core.wait(3)\n",
    "\n",
    "win.close()\n",
    "core.quit()"
   ]
  }
 ],
 "metadata": {
  "language_info": {
   "name": "python"
  }
 },
 "nbformat": 4,
 "nbformat_minor": 2
}
