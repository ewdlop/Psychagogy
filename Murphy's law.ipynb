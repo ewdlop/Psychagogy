{
 "cells": [
  {
   "cell_type": "code",
   "execution_count": null,
   "metadata": {
    "vscode": {
     "languageId": "plaintext"
    }
   },
   "outputs": [],
   "source": [
    "from psychopy import visual, core, event, gui\n",
    "import random\n",
    "\n",
    "# Create a window\n",
    "win = visual.Window([800, 600], color=(1, 1, 1))\n",
    "\n",
    "# Collect participant info\n",
    "info = {\"Participant ID\": \"\"}\n",
    "dlg = gui.DlgFromDict(dictionary=info, title=\"Murphy's Law Experiment\")\n",
    "if not dlg.OK:\n",
    "    core.quit()"
   ]
  },
  {
   "cell_type": "code",
   "execution_count": null,
   "metadata": {
    "vscode": {
     "languageId": "plaintext"
    }
   },
   "outputs": [],
   "source": [
    "# Define tasks\n",
    "tasks = [\n",
    "    {\"description\": \"Click the green button.\", \"success_rate\": 0.8},\n",
    "    {\"description\": \"Type the word 'success'.\", \"success_rate\": 0.7},\n",
    "    {\"description\": \"Move the slider to the right.\", \"success_rate\": 0.6},\n",
    "]\n",
    "\n",
    "# Create text stimuli for instructions and feedback\n",
    "instruction_text = visual.TextStim(win, text='', color=(-1, -1, -1), wrapWidth=1.5, pos=(0, 0.2))\n",
    "feedback_text = visual.TextStim(win, text='', color=(-1, -1, -1), wrapWidth=1.5, pos=(0, -0.2))"
   ]
  },
  {
   "cell_type": "code",
   "execution_count": null,
   "metadata": {
    "vscode": {
     "languageId": "plaintext"
    }
   },
   "outputs": [],
   "source": [
    "for task in tasks:\n",
    "    instruction_text.setText(task[\"description\"])\n",
    "    feedback_text.setText('')\n",
    "\n",
    "    # Display the task instruction\n",
    "    instruction_text.draw()\n",
    "    win.flip()\n",
    "\n",
    "    # Wait for user response\n",
    "    if \"Click the green button\" in task[\"description\"]:\n",
    "        # Simulate button click task\n",
    "        button = visual.Rect(win, width=0.2, height=0.1, fillColor='green', pos=(0, -0.2))\n",
    "        button.draw()\n",
    "        instruction_text.draw()\n",
    "        win.flip()\n",
    "        \n",
    "        keys = event.waitKeys(keyList=[\"space\", \"escape\"])\n",
    "        if \"escape\" in keys:\n",
    "            break\n",
    "        success = random.random() < task[\"success_rate\"]\n",
    "        if success:\n",
    "            feedback_text.setText(\"You clicked the button successfully!\")\n",
    "        else:\n",
    "            feedback_text.setText(\"Oops, the button didn't work!\")\n",
    "\n",
    "    elif \"Type the word 'success'\" in task[\"description\"]:\n",
    "        # Simulate typing task\n",
    "        typed_text = []\n",
    "        while True:\n",
    "            keys = event.waitKeys()\n",
    "            if \"return\" in keys:\n",
    "                break\n",
    "            elif keys:\n",
    "                typed_text.append(keys[0])\n",
    "                feedback_text.setText(''.join(typed_text))\n",
    "                instruction_text.draw()\n",
    "                feedback_text.draw()\n",
    "                win.flip()\n",
    "        \n",
    "        success = random.random() < task[\"success_rate\"]\n",
    "        if success and ''.join(typed_text) == 'success':\n",
    "            feedback_text.setText(\"You typed 'success' correctly!\")\n",
    "        else:\n",
    "            feedback_text.setText(\"Oops, there was a typo or an error!\")\n",
    "\n",
    "    elif \"Move the slider\" in task[\"description\"]:\n",
    "        # Simulate slider task\n",
    "        slider = visual.Slider(win, ticks=(1, 100), pos=(0, -0.2), size=(0.8, 0.1))\n",
    "        while not slider.getRating():\n",
    "            slider.draw()\n",
    "            instruction_text.draw()\n",
    "            win.flip()\n",
    "        \n",
    "        success = random.random() < task[\"success_rate\"]\n",
    "        if success and slider.getRating() > 50:\n",
    "            feedback_text.setText(\"You moved the slider correctly!\")\n",
    "        else:\n",
    "            feedback_text.setText(\"Oops, the slider didn't move as expected!\")\n",
    "\n",
    "    # Display feedback\n",
    "    instruction_text.draw()\n",
    "    feedback_text.draw()\n",
    "    win.flip()\n",
    "    core.wait(3)  # Display feedback for 3 seconds"
   ]
  },
  {
   "cell_type": "code",
   "execution_count": null,
   "metadata": {
    "vscode": {
     "languageId": "plaintext"
    }
   },
   "outputs": [],
   "source": [
    "# End of experiment\n",
    "end_message = visual.TextStim(win, text=\"Thank you for participating!\", color=(-1, -1, -1))\n",
    "end_message.draw()\n",
    "win.flip()\n",
    "core.wait(3)\n",
    "\n",
    "win.close()\n",
    "core.quit()"
   ]
  }
 ],
 "metadata": {
  "language_info": {
   "name": "python"
  }
 },
 "nbformat": 4,
 "nbformat_minor": 2
}
