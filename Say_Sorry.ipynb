{
 "cells": [
  {
   "cell_type": "code",
   "execution_count": null,
   "metadata": {
    "vscode": {
     "languageId": "plaintext"
    }
   },
   "outputs": [],
   "source": [
    "from psychopy import visual, core, event, gui\n",
    "\n",
    "# Create a window\n",
    "win = visual.Window([800, 600], color=(1, 1, 1))\n",
    "\n",
    "# Collect participant info\n",
    "info = {\"Participant ID\": \"\"}\n",
    "dlg = gui.DlgFromDict(dictionary=info, title=\"Experiment Info\")\n",
    "if not dlg.OK:\n",
    "    core.quit()"
   ]
  },
  {
   "cell_type": "code",
   "execution_count": null,
   "metadata": {
    "vscode": {
     "languageId": "plaintext"
    }
   },
   "outputs": [],
   "source": [
    "scenarios = [\n",
    "    {\"description\": \"You accidentally stepped on your friend's foot.\", \"prompt\": \"What should you say?\"},\n",
    "    {\"description\": \"You took your sibling's toy without asking.\", \"prompt\": \"What should you say?\"},\n",
    "    {\"description\": \"You spilled juice on the table during dinner.\", \"prompt\": \"What should you say?\"},\n",
    "]\n",
    "\n",
    "# Create text stimuli for the scenarios\n",
    "description_text = visual.TextStim(win, text='', color=(-1, -1, -1), wrapWidth=1.5, pos=(0, 0.2))\n",
    "prompt_text = visual.TextStim(win, text='', color=(-1, -1, -1), wrapWidth=1.5, pos=(0, -0.2))\n",
    "response_box = visual.TextStim(win, text='', color=(-1, -1, -1), pos=(0, -0.4), wrapWidth=1.5)"
   ]
  },
  {
   "cell_type": "code",
   "execution_count": null,
   "metadata": {
    "vscode": {
     "languageId": "plaintext"
    }
   },
   "outputs": [],
   "source": [
    "for scenario in scenarios:\n",
    "    description_text.setText(scenario[\"description\"])\n",
    "    prompt_text.setText(scenario[\"prompt\"])\n",
    "    response_box.setText('')\n",
    "\n",
    "    # Display the scenario\n",
    "    description_text.draw()\n",
    "    prompt_text.draw()\n",
    "    win.flip()\n",
    "\n",
    "    # Collect the response\n",
    "    response = []\n",
    "    while True:\n",
    "        keys = event.waitKeys()\n",
    "        if 'return' in keys:\n",
    "            break\n",
    "        elif keys:\n",
    "            response.append(keys[0])\n",
    "            response_box.setText(''.join(response))\n",
    "            description_text.draw()\n",
    "            prompt_text.draw()\n",
    "            response_box.draw()\n",
    "            win.flip()\n",
    "\n",
    "    # Store the response\n",
    "    response_text = ''.join(response)\n",
    "\n",
    "    # Provide feedback\n",
    "    if \"sorry\" in response_text.lower():\n",
    "        feedback_text = \"Good job! Saying sorry is the right thing to do.\"\n",
    "    else:\n",
    "        feedback_text = \"Remember, it's important to say sorry when you make a mistake.\"\n",
    "\n",
    "    feedback = visual.TextStim(win, text=feedback_text, color=(-1, -1, -1), wrapWidth=1.5, pos=(0, 0))\n",
    "    feedback.draw()\n",
    "    win.flip()\n",
    "    core.wait(3)  # Display feedback for 3 seconds"
   ]
  },
  {
   "cell_type": "code",
   "execution_count": null,
   "metadata": {
    "vscode": {
     "languageId": "plaintext"
    }
   },
   "outputs": [],
   "source": [
    "# End of experiment\n",
    "end_message = visual.TextStim(win, text=\"Thank you for participating!\", color=(-1, -1, -1))\n",
    "end_message.draw()\n",
    "win.flip()\n",
    "core.wait(3)\n",
    "\n",
    "win.close()\n",
    "core.quit()"
   ]
  }
 ],
 "metadata": {
  "language_info": {
   "name": "python"
  }
 },
 "nbformat": 4,
 "nbformat_minor": 2
}
